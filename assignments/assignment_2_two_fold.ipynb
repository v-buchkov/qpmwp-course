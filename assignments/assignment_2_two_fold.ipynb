{
 "cells": [
  {
   "cell_type": "markdown",
   "metadata": {},
   "source": [
    "# Assignment 2\n",
    "\n",
    "Deadline: 26.03.2025, 12:00 CET\n",
    "\n",
    "*Buchkov Viacheslav, ID = 24-742-488, viacheslav.buchkov@uzh.ch*"
   ]
  },
  {
   "cell_type": "markdown",
   "metadata": {},
   "source": [
    "## 1. Linearization of Turnover\n",
    "\n",
    "**(15 points)**\n",
    "\n",
    "Turnover constraints are used to limit the amount of change in portfolio weights between periods, helping to manage transaction costs and maintain portfolio stability.\n",
    "\n",
    "Your task is to implement a method `linearize_turnover_constraint` for the class `QuadraticProgram`, which modifies the quadratic programming problem to incorporate a linearized turnover constraint. This will involve updating the objective function coefficients, equality and inequality constraints, as well as the lower and upper bounds of the problem. \n",
    "\n",
    "Additionally, complete the example provided below to demonstrate that your method functions correctly.\n",
    "\n",
    "In class, we discussed a solution that involved augmenting the dimensionality by a factor of three. Here, you are asked to implement an alternative method that involves a two-fold increase in dimensions. If you are unable to implement the two-fold method, you may proceed with the three-fold approach.\n",
    "\n",
    "### Function Parameters:\n",
    "- `x_init` (np.ndarray): The initial portfolio weights.\n",
    "- `to_budget` (float, optional): The maximum allowable turnover. Defaults to `float('inf')`.\n",
    "\n",
    "### Steps for Function Implementation:\n",
    "\n",
    "As discussed in the lecture, introduce auxiliary variables and augment the matrices/vectors used for optimization.\n",
    "\n",
    "- **Objective Function Coefficients**:  \n",
    "  Pad the existing objective function coefficients (`P` and `q`) to accommodate the new variables introduced by the turnover constraint.  \n",
    "  *Note*: \"Padding\" refers to adding extra elements (typically zeros) to an array or matrix to increase its size to a desired shape.\n",
    "\n",
    "- **Equality Constraints**:  \n",
    "  Pad the existing equality constraint matrix (`A`) to account for the new variables.\n",
    "\n",
    "- **Inequality Constraints**:  \n",
    "  Pad the existing inequality constraint matrix ('G') and vector ('h') and further add a new inequality constraint row to incorporate the turnover constraint.  \n",
    "\n",
    "- **Lower and Upper Bounds**:  \n",
    "  Pad the existing lower (`lb`) and upper (`ub`) bounds to accommodate the new variables.\n",
    "\n",
    "- **Update Problem Data**:  \n",
    "  Overwrite the original problem data in the `QuadraticProgram` class with the updated matrices and vectors to include the linearized turnover constraint."
   ]
  },
  {
   "cell_type": "code",
   "execution_count": 1,
   "metadata": {
    "ExecuteTime": {
     "end_time": "2025-03-19T20:17:41.465568Z",
     "start_time": "2025-03-19T20:17:41.165868Z"
    }
   },
   "outputs": [],
   "source": [
    "# Import standard libraries\n",
    "import types\n",
    "import os\n",
    "import sys\n",
    "\n",
    "# Import third-party libraries\n",
    "import numpy as np\n",
    "import pandas as pd\n",
    "\n",
    "# Import local modules\n",
    "project_root = os.path.dirname(\n",
    "    os.path.dirname(os.getcwd())\n",
    ")  # Change this path if needed\n",
    "src_path = os.path.join(project_root, \"qpmwp-course\\\\src\")\n",
    "sys.path.append(project_root)\n",
    "sys.path.append(src_path)\n",
    "from src.estimation.covariance import Covariance\n",
    "from src.estimation.expected_return import ExpectedReturn\n",
    "from src.optimization.constraints import Constraints\n",
    "from src.optimization.quadratic_program import QuadraticProgram\n",
    "from src.helper_functions import load_data_msci"
   ]
  },
  {
   "cell_type": "markdown",
   "metadata": {},
   "source": [
    "### Derivation of 2-fold constraint:\n",
    "\n",
    "We have $w = w^0 + w^+ - w^-$. Denote the auxiliary variable as $w^{aux} = w^+ + w^-$.\n",
    "\n",
    "1. Rewrite the constraint from $\\sum |w - w^0| <= \\tau$ into:\n",
    "    * $\\sum w^{aux} <= \\tau$\n",
    "    * $w^{aux} >= w - w^0$\n",
    "    * $w^aux >= -(w - w^0) = w^0 - w$.\n",
    "2. Using the definition of auxiliary variable rewrite weights into the system:\n",
    "$$\n",
    "\\begin{equation}\n",
    "    \\begin{cases}\n",
    "      w = w^0 + w^{aux} - 2 w^- \\\\\n",
    "      w = w^0 + 2 w^+ - w^{aux}\n",
    "    \\end{cases}\\,.\n",
    "\\end{equation}\n",
    "$$\n",
    "3. Next use the restriction on the $w^+$ and $w^-$, denoting $upper\\_bound = ub$ and $lower\\_bound = lb$:\n",
    "$$\n",
    "\\begin{equation}\n",
    "    \\begin{cases}\n",
    "      0 \\leq w^+ \\leq ub - w^0 \\\\\n",
    "      0 \\leq w^- \\leq w^0 - lb\n",
    "    \\end{cases}\\,.\n",
    "\\end{equation}\n",
    "$$.\n",
    "4. Applying the above restrictions we obtain the following system on $w$ and $w^{aux}$:\n",
    "$$\n",
    "\\begin{equation}\n",
    "    \\begin{cases}\n",
    "      -w^0 + 2lb \\leq w - w^{aux} \\leq w^0 \\\\\n",
    "      w^0 \\leq w + w^{aux} \\leq 2ub - w^0\n",
    "    \\end{cases}\\,.\n",
    "\\end{equation}\n",
    "$$.\n",
    "5. Changing the inequality orders and rewriting we get 4 final inequalities:\n",
    "$$\n",
    "\\begin{equation}\n",
    "    \\begin{cases}\n",
    "      -w + w^{aux} \\leq w^0 - 2lb \\\\\n",
    "      w - w^{aux} \\leq w^0 \\\\\n",
    "      -w - w^{aux} \\leq -w^0 \\\\\n",
    "      w + w^{aux} \\leq 2ub - w^0\n",
    "    \\end{cases}\\,.\n",
    "\\end{equation}\n",
    "$$.\n",
    "6. Finally, as our $\\widetilde{w} = (w, w^{aux})$ we augment the $\\mathbb{G}$ and $\\mathbb{h}$ as (with 5. meaning inequalities from 5.):\n",
    "$$\n",
    "\\begin{equation}\n",
    "    \\begin{cases}\n",
    "      \\widetilde{\\mathbb{G}} = (G, 5., \\mathbb{1}_n) \\\\\n",
    "      \\widetilde{\\mathbb{h}} = (h, 5., \\tau)\n",
    "    \\end{cases}\\,.\n",
    "\\end{equation}\n",
    "$$."
   ]
  },
  {
   "cell_type": "code",
   "execution_count": 2,
   "metadata": {
    "ExecuteTime": {
     "end_time": "2025-03-19T20:17:41.471379Z",
     "start_time": "2025-03-19T20:17:41.467865Z"
    }
   },
   "outputs": [],
   "source": [
    "def linearize_turnover_constraint(\n",
    "    self, x_init: np.ndarray, to_budget: float = float(\"inf\")\n",
    ") -> None:\n",
    "    \"\"\"\n",
    "    Linearize the turnover constraint in the quadratic programming problem with 2-fold augmentation.\n",
    "\n",
    "    This method modifies the quadratic programming problem to include a linearized turnover constraint.\n",
    "\n",
    "    For 2-fold implementation the auxiliary variable is taken as w^aux = w^+ + w^-. The linearization is\n",
    "    done with G augmentation to transform sum |w - w_init| <= `to budget` into:\n",
    "    * sum w^aux <= `to budget`\n",
    "    * w^aux >= w - w_init\n",
    "    * w^aux >= -(w - w_init).\n",
    "\n",
    "    Parameters:\n",
    "    -----------\n",
    "    x_init : np.ndarray\n",
    "        The initial portfolio weights.\n",
    "    to_budget : float, optional\n",
    "        The maximum allowable turnover. Defaults to float('inf').\n",
    "\n",
    "    Notes:\n",
    "    ------\n",
    "    - The method updates the problem's objective function coefficients, inequality constraints,\n",
    "    equality constraints, and bounds to account for the turnover constraint.\n",
    "    - The original problem data is overridden with the updated matrices and vectors.\n",
    "\n",
    "    Examples:\n",
    "    ---------\n",
    "    >>> qp = QuadraticProgram(P, q, G, h, A, b, lb, ub, solver='cvxopt')\n",
    "    >>> qp.linearize_turnover_constraint(x_init=np.array([0.1, 0.2, 0.3]), to_budget=0.05)\n",
    "    \"\"\"\n",
    "    # Dimensions\n",
    "    n = len(self.problem_data.get(\"q\"))\n",
    "    m = 0 if self.problem_data.get(\"G\") is None else self.problem_data.get(\"G\").shape[0]\n",
    "\n",
    "    # 1. Update the coefficients of the objective function\n",
    "    P_orig = self.problem_data.get(\"P\")\n",
    "    q_orig = self.problem_data.get(\"q\")\n",
    "\n",
    "    # Augment by sum of positive and negative parts => only n auxiliary variables\n",
    "    # that do not contribute to the mean-variance optim.\n",
    "    P = np.pad(P_orig, ((0, n), (0, n)), constant_values=0)\n",
    "    q = np.pad(q_orig, (0, n), constant_values=0)\n",
    "\n",
    "    # 2. Update the equality constraints\n",
    "    # As all the restrictions are done in step 3., just pad with n zeros for w^aux\n",
    "    A_orig = self.problem_data.get(\"A\")\n",
    "    A = np.pad(A_orig, ((0, 0), (0, n)), constant_values=0)\n",
    "\n",
    "    # 3. Update the inequality constraints\n",
    "    G_orig = self.problem_data.get(\"G\")\n",
    "    h_orig = self.problem_data.get(\"h\")\n",
    "\n",
    "    lb_orig = self.problem_data.get(\"lb\")\n",
    "    ub_orig = self.problem_data.get(\"ub\")\n",
    "\n",
    "    # Have of the form Gw <= h\n",
    "    # See the derivation above for the G and h augmentation logic\n",
    "    G = np.zeros((4 * n + 1, 2 * n))\n",
    "\n",
    "    def _fill_G(\n",
    "        from_idx: int, to_idx: int, array_left: np.array, array_right: np.array\n",
    "    ) -> None:\n",
    "        G[from_idx:to_idx, :n] = array_left\n",
    "        G[from_idx:to_idx, n:] = array_right\n",
    "\n",
    "    # -w + w^aux\n",
    "    _fill_G(0, n, np.eye(n) * -1, np.eye(n))\n",
    "    # w - w^aux\n",
    "    _fill_G(n, 2 * n, np.eye(n), np.eye(n) * -1)\n",
    "    # -w - w^aux\n",
    "    _fill_G(2 * n, 3 * n, np.eye(n) * -1, np.eye(n) * -1)\n",
    "    # w + w^aux\n",
    "    _fill_G(0, n, np.eye(n) * -1, np.eye(n))\n",
    "\n",
    "    # \\sum w^aux <= `to_budget`\n",
    "    G[-1, n:] = np.ones(n)\n",
    "\n",
    "    h = np.concatenate((x_init - 2 * lb_orig, x_init, -x_init, 2 * ub_orig - x_init))\n",
    "    h = np.concatenate((h, np.array([to_budget])))\n",
    "\n",
    "    if G_orig is not None:\n",
    "        # Pad otherwise\n",
    "        G_pad_auxiliary = np.pad(G_orig, ((0, 0), (0, n)), constant_values=0)\n",
    "        G = np.concatenate((G_pad_auxiliary, G))\n",
    "\n",
    "        h = np.concatenate((h_orig, h))\n",
    "\n",
    "    # Update lower and upper bounds\n",
    "    # As we take w = w^0 + w^+ - w^- => w^- is positive => all are positive\n",
    "    lb = np.pad(lb_orig, (0, n), constant_values=0)\n",
    "\n",
    "    ub = np.pad(ub_orig, (0, n), constant_values=0)\n",
    "    ub[n:] = ub_orig - lb_orig\n",
    "\n",
    "    # Override the original matrices\n",
    "    self.update_problem_data(\n",
    "        {\"P\": P, \"q\": q, \"G\": G, \"h\": h, \"A\": A, \"lb\": lb, \"ub\": ub}\n",
    "    )\n",
    "\n",
    "    return None"
   ]
  },
  {
   "cell_type": "markdown",
   "metadata": {},
   "source": [
    "## Demo"
   ]
  },
  {
   "cell_type": "markdown",
   "metadata": {},
   "source": [
    "#### Create P and q"
   ]
  },
  {
   "cell_type": "code",
   "execution_count": 3,
   "metadata": {
    "ExecuteTime": {
     "end_time": "2025-03-19T20:17:41.537825Z",
     "start_time": "2025-03-19T20:17:41.514128Z"
    }
   },
   "outputs": [],
   "source": [
    "# Load the msci country index data\n",
    "N = 10\n",
    "data = load_data_msci(path=\"../data/\", n=N)\n",
    "X = data[\"return_series\"]\n",
    "\n",
    "# Compute the vector of expected returns (mean returns)\n",
    "q = ExpectedReturn(method=\"geometric\").estimate(X=X, inplace=False)\n",
    "\n",
    "# Compute the covariance matrix\n",
    "P = Covariance(method=\"pearson\").estimate(X=X, inplace=False)\n",
    "\n",
    "# q, P"
   ]
  },
  {
   "cell_type": "markdown",
   "metadata": {},
   "source": [
    "### Create some constraints, instantiate an object of class QuadraticProgram, and add the method linearize_turnover_constraint to the instance."
   ]
  },
  {
   "cell_type": "code",
   "execution_count": 4,
   "metadata": {
    "ExecuteTime": {
     "end_time": "2025-03-19T20:17:41.546323Z",
     "start_time": "2025-03-19T20:17:41.544273Z"
    }
   },
   "outputs": [],
   "source": [
    "# Instantiate the constraints with only the budget and long-only constraints\n",
    "constraints = Constraints(ids=X.columns.tolist())\n",
    "constraints.add_budget(rhs=1, sense=\"=\")\n",
    "constraints.add_box(lower=0.0, upper=1.0)\n",
    "GhAb = constraints.to_GhAb()\n",
    "\n",
    "# Create a quadratic program and linearize the turnover constraint\n",
    "qp = QuadraticProgram(\n",
    "    P=P.to_numpy(),\n",
    "    q=q.to_numpy() * 0,\n",
    "    G=GhAb[\"G\"],\n",
    "    h=GhAb[\"h\"],\n",
    "    A=GhAb[\"A\"],\n",
    "    b=GhAb[\"b\"],\n",
    "    lb=constraints.box[\"lower\"].to_numpy(),\n",
    "    ub=constraints.box[\"upper\"].to_numpy(),\n",
    "    solver=\"cvxopt\",\n",
    ")\n",
    "\n",
    "# Add the linearized turnover constraint method to the instance of class QuadraticProgram\n",
    "qp.linearize_turnover_constraint = types.MethodType(linearize_turnover_constraint, qp)"
   ]
  },
  {
   "cell_type": "markdown",
   "metadata": {},
   "source": [
    "### Add a turnover limit of 50%. Solve the problem and check whether the turnover constraint is respected."
   ]
  },
  {
   "cell_type": "code",
   "execution_count": 5,
   "metadata": {
    "ExecuteTime": {
     "end_time": "2025-03-19T20:17:41.563757Z",
     "start_time": "2025-03-19T20:17:41.552655Z"
    }
   },
   "outputs": [
    {
     "name": "stdout",
     "output_type": "stream",
     "text": [
      "Turnover:\n",
      "0.49989303208538993\n",
      "Volatility:\n",
      "0.008832098798467157\n"
     ]
    }
   ],
   "source": [
    "MAX_TURNOVER = 0.5\n",
    "\n",
    "# Prepare initial weights\n",
    "x_init = pd.Series([1 / X.shape[1]] * X.shape[1], index=X.columns)\n",
    "\n",
    "# Add the linearized turnover constraint\n",
    "qp.linearize_turnover_constraint(x_init=x_init, to_budget=MAX_TURNOVER)\n",
    "\n",
    "# Solve the problem\n",
    "qp.solve()\n",
    "\n",
    "# Check the turnover\n",
    "solution = qp.results.get(\"solution\")\n",
    "ids = constraints.ids\n",
    "weights = pd.Series(solution.x[: len(ids)], index=ids, name=\"optimal_weights\")\n",
    "\n",
    "turnover = np.abs(weights - x_init).sum()\n",
    "volatility = np.sqrt(weights.to_numpy().T @ P.to_numpy() @ weights.to_numpy())\n",
    "\n",
    "assert turnover <= MAX_TURNOVER, (\n",
    "    f\"Turnover constraint not respected: {turnover} > {MAX_TURNOVER}\"\n",
    ")\n",
    "\n",
    "print(\"Turnover:\")\n",
    "print(turnover)\n",
    "\n",
    "print(\"Volatility:\")\n",
    "print(volatility)"
   ]
  },
  {
   "cell_type": "code",
   "execution_count": 6,
   "metadata": {
    "ExecuteTime": {
     "end_time": "2025-03-19T20:17:41.575754Z",
     "start_time": "2025-03-19T20:17:41.571241Z"
    }
   },
   "outputs": [
    {
     "data": {
      "text/html": [
       "<div>\n",
       "<style scoped>\n",
       "    .dataframe tbody tr th:only-of-type {\n",
       "        vertical-align: middle;\n",
       "    }\n",
       "\n",
       "    .dataframe tbody tr th {\n",
       "        vertical-align: top;\n",
       "    }\n",
       "\n",
       "    .dataframe thead th {\n",
       "        text-align: right;\n",
       "    }\n",
       "</style>\n",
       "<table border=\"1\" class=\"dataframe\">\n",
       "  <thead>\n",
       "    <tr style=\"text-align: right;\">\n",
       "      <th></th>\n",
       "      <th>initial_weights</th>\n",
       "      <th>optimal_weights</th>\n",
       "    </tr>\n",
       "  </thead>\n",
       "  <tbody>\n",
       "    <tr>\n",
       "      <th>AT</th>\n",
       "      <td>0.1</td>\n",
       "      <td>0.083752</td>\n",
       "    </tr>\n",
       "    <tr>\n",
       "      <th>AU</th>\n",
       "      <td>0.1</td>\n",
       "      <td>0.341020</td>\n",
       "    </tr>\n",
       "    <tr>\n",
       "      <th>BE</th>\n",
       "      <td>0.1</td>\n",
       "      <td>0.099981</td>\n",
       "    </tr>\n",
       "    <tr>\n",
       "      <th>CA</th>\n",
       "      <td>0.1</td>\n",
       "      <td>0.108878</td>\n",
       "    </tr>\n",
       "    <tr>\n",
       "      <th>CH</th>\n",
       "      <td>0.1</td>\n",
       "      <td>0.100027</td>\n",
       "    </tr>\n",
       "    <tr>\n",
       "      <th>DE</th>\n",
       "      <td>0.1</td>\n",
       "      <td>0.089756</td>\n",
       "    </tr>\n",
       "    <tr>\n",
       "      <th>DK</th>\n",
       "      <td>0.1</td>\n",
       "      <td>0.100021</td>\n",
       "    </tr>\n",
       "    <tr>\n",
       "      <th>ES</th>\n",
       "      <td>0.1</td>\n",
       "      <td>0.065456</td>\n",
       "    </tr>\n",
       "    <tr>\n",
       "      <th>FI</th>\n",
       "      <td>0.1</td>\n",
       "      <td>0.000496</td>\n",
       "    </tr>\n",
       "    <tr>\n",
       "      <th>FR</th>\n",
       "      <td>0.1</td>\n",
       "      <td>0.010613</td>\n",
       "    </tr>\n",
       "  </tbody>\n",
       "</table>\n",
       "</div>"
      ],
      "text/plain": [
       "    initial_weights  optimal_weights\n",
       "AT              0.1         0.083752\n",
       "AU              0.1         0.341020\n",
       "BE              0.1         0.099981\n",
       "CA              0.1         0.108878\n",
       "CH              0.1         0.100027\n",
       "DE              0.1         0.089756\n",
       "DK              0.1         0.100021\n",
       "ES              0.1         0.065456\n",
       "FI              0.1         0.000496\n",
       "FR              0.1         0.010613"
      ]
     },
     "execution_count": 6,
     "metadata": {},
     "output_type": "execute_result"
    }
   ],
   "source": [
    "pd.concat([x_init.rename(\"initial_weights\"), weights], axis=1)"
   ]
  },
  {
   "cell_type": "code",
   "execution_count": 7,
   "metadata": {
    "ExecuteTime": {
     "end_time": "2025-03-19T20:17:41.596855Z",
     "start_time": "2025-03-19T20:17:41.595264Z"
    }
   },
   "outputs": [
    {
     "name": "stdout",
     "output_type": "stream",
     "text": [
      "Deviation vs Assignment Constant is satisfied: True\n"
     ]
    }
   ],
   "source": [
    "# Use the constant from cbachela/qpmwp-course run to check the turnover\n",
    "ASSIGNMENT_CONSTANT = 0.49954552248142037\n",
    "\n",
    "print(\n",
    "    f\"Deviation vs Assignment Constant is satisfied: {np.isclose(turnover, ASSIGNMENT_CONSTANT, atol=1e-3)}\"\n",
    ")"
   ]
  }
 ],
 "metadata": {
  "kernelspec": {
   "display_name": ".venv",
   "language": "python",
   "name": "python3"
  },
  "language_info": {
   "codemirror_mode": {
    "name": "ipython",
    "version": 3
   },
   "file_extension": ".py",
   "mimetype": "text/x-python",
   "name": "python",
   "nbconvert_exporter": "python",
   "pygments_lexer": "ipython3",
   "version": "3.10.11"
  }
 },
 "nbformat": 4,
 "nbformat_minor": 2
}
