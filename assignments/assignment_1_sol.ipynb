{
 "cells": [
  {
   "cell_type": "markdown",
   "metadata": {},
   "source": [
    "# Assignment 1\n",
    "\n",
    "Deadline: 19.03.2025, 12:00 CET\n",
    "\n",
    "*Buchkov Viacheslav, ID = 24-742-488, viacheslav.buchkov@uzh.ch*"
   ]
  },
  {
   "cell_type": "code",
   "metadata": {
    "ExecuteTime": {
     "end_time": "2025-03-17T22:08:16.485064Z",
     "start_time": "2025-03-17T22:08:16.481778Z"
    }
   },
   "source": [
    "# Import standard libraries\n",
    "import os\n",
    "import sys\n",
    "import timeit  # To compute runtimes\n",
    "from typing import Optional\n",
    "from dataclasses import dataclass\n",
    "\n",
    "# Import third-party libraries\n",
    "import numpy as np\n",
    "import pandas as pd\n",
    "import matplotlib.pyplot as plt\n",
    "\n",
    "# Import local modules\n",
    "project_root = os.path.dirname(\n",
    "    os.path.dirname(os.getcwd())\n",
    ")  # Change this path if needed\n",
    "src_path = os.path.join(project_root, \"qpmwp-course\\\\src\")\n",
    "sys.path.append(project_root)\n",
    "sys.path.append(src_path)\n",
    "from src.estimation.covariance import Covariance\n",
    "from src.estimation.expected_return import ExpectedReturn\n",
    "from src.optimization.constraints import Constraints\n",
    "from src.optimization.optimization import Optimization, Objective\n",
    "from src.optimization.optimization_data import OptimizationData\n",
    "from src.optimization.quadratic_program import QuadraticProgram, USABLE_SOLVERS"
   ],
   "outputs": [],
   "execution_count": 471
  },
  {
   "cell_type": "code",
   "metadata": {
    "ExecuteTime": {
     "end_time": "2025-03-17T22:08:16.513701Z",
     "start_time": "2025-03-17T22:08:16.511053Z"
    }
   },
   "source": [
    "@dataclass\n",
    "class GroupConstraint:\n",
    "    indicies: np.array\n",
    "    max_weight: float\n",
    "\n",
    "\n",
    "@dataclass\n",
    "class TaskConfig:\n",
    "    RANDOM_SEED: int = 121\n",
    "\n",
    "    TOTAL_EXPOSURE: float = 1.0\n",
    "\n",
    "    MIN_WEIGHT: float = 0.0\n",
    "    MAX_WEIGHT: float = 0.2\n",
    "\n",
    "    GROUP_CONSTRAINTS: tuple[GroupConstraint] = (\n",
    "        GroupConstraint(indicies=np.arange(0, 30), max_weight=0.3),\n",
    "        GroupConstraint(indicies=np.arange(30, 60), max_weight=0.4),\n",
    "        GroupConstraint(indicies=np.arange(60, 100), max_weight=0.5),\n",
    "    )\n",
    "\n",
    "\n",
    "task_config = TaskConfig()"
   ],
   "outputs": [],
   "execution_count": 472
  },
  {
   "cell_type": "markdown",
   "metadata": {},
   "source": [
    "## 1. Solver Horse Race\n",
    "\n",
    "### 1.a)\n",
    "(3 points)\n",
    "\n",
    "Generate a Multivariate-Normal random dataset of dimension TxN, T=1000, N=100, and compute a vector of expected returns, q, and a covariance matrix, P, using classes ExpectedReturn and Covariance respectively."
   ]
  },
  {
   "cell_type": "code",
   "metadata": {
    "ExecuteTime": {
     "end_time": "2025-03-17T22:08:16.518074Z",
     "start_time": "2025-03-17T22:08:16.516116Z"
    }
   },
   "source": [
    "LOW_RETURN = -0.03 / 252\n",
    "HIGH_RETURN = 0.15 / 252\n",
    "\n",
    "LOW_VOL = 0.03 / np.sqrt(252)\n",
    "HIGH_VOL = 0.25 / np.sqrt(252)\n",
    "\n",
    "# Set the dimensions\n",
    "T = 1_000  # Number of time periods\n",
    "N = 100  # Number of assets\n",
    "\n",
    "np.random.seed(task_config.RANDOM_SEED)\n",
    "\n",
    "# Generate a random mean vector and covariance matrix for the multivariate normal distribution\n",
    "mean = np.random.uniform(low=LOW_RETURN, high=HIGH_RETURN, size=N)\n",
    "vols = np.random.uniform(low=LOW_VOL, high=HIGH_VOL, size=N)\n",
    "correlations = np.random.uniform(low=-1, high=1, size=N * (N - 1) // 2)"
   ],
   "outputs": [],
   "execution_count": 473
  },
  {
   "cell_type": "code",
   "metadata": {
    "ExecuteTime": {
     "end_time": "2025-03-17T22:08:16.548116Z",
     "start_time": "2025-03-17T22:08:16.546282Z"
    }
   },
   "source": [
    "corr_matrix = np.eye(N)\n",
    "upper_indices = np.triu_indices(N, k=1)\n",
    "corr_matrix[upper_indices] = correlations\n",
    "corr_matrix = corr_matrix + corr_matrix.T - np.eye(N)"
   ],
   "outputs": [],
   "execution_count": 474
  },
  {
   "cell_type": "code",
   "metadata": {
    "ExecuteTime": {
     "end_time": "2025-03-17T22:08:16.552266Z",
     "start_time": "2025-03-17T22:08:16.550061Z"
    }
   },
   "source": [
    "def nearest_positive_semidefinite(matrix: np.array) -> np.array:\n",
    "    matrix = (matrix + matrix.T) / 2\n",
    "    eigvals, eigvecs = np.linalg.eigh(matrix)\n",
    "    eigvals[eigvals < 0] = 0\n",
    "    psd_matrix = eigvecs @ np.diag(eigvals) @ eigvecs.T\n",
    "    return psd_matrix\n",
    "\n",
    "\n",
    "corr_matrix = nearest_positive_semidefinite(corr_matrix)"
   ],
   "outputs": [],
   "execution_count": 475
  },
  {
   "cell_type": "code",
   "metadata": {
    "ExecuteTime": {
     "end_time": "2025-03-17T22:08:16.567033Z",
     "start_time": "2025-03-17T22:08:16.565657Z"
    }
   },
   "source": [
    "def var_covar_from_corr_array(corr_array: np.array, volatilities: np.array) -> np.array:\n",
    "    return volatilities @ corr_array @ volatilities"
   ],
   "outputs": [],
   "execution_count": 476
  },
  {
   "cell_type": "code",
   "metadata": {
    "ExecuteTime": {
     "end_time": "2025-03-17T22:08:16.582967Z",
     "start_time": "2025-03-17T22:08:16.580787Z"
    }
   },
   "source": [
    "cov = var_covar_from_corr_array(corr_matrix, np.diag(np.sqrt(vols)))\n",
    "cov.shape"
   ],
   "outputs": [
    {
     "data": {
      "text/plain": [
       "(100, 100)"
      ]
     },
     "execution_count": 477,
     "metadata": {},
     "output_type": "execute_result"
    }
   ],
   "execution_count": 477
  },
  {
   "cell_type": "code",
   "metadata": {
    "ExecuteTime": {
     "end_time": "2025-03-17T22:08:16.603689Z",
     "start_time": "2025-03-17T22:08:16.596850Z"
    }
   },
   "source": [
    "np.random.seed(task_config.RANDOM_SEED)\n",
    "\n",
    "# Generate the Multivariate-Normal random dataset\n",
    "data = np.random.multivariate_normal(mean, cov, size=T)\n",
    "\n",
    "# Convert the dataset to a DataFrame for easier manipulation\n",
    "df = pd.DataFrame(data, columns=[f\"Asset_{i + 1}\" for i in range(N)])\n",
    "\n",
    "# Compute the vector of expected returns (mean returns) from df\n",
    "# As we sample normal => returns are arithmetic (not compounded)\n",
    "expected_return = ExpectedReturn(method=\"arithmetic\")\n",
    "q = expected_return.estimate(X=df, inplace=False)\n",
    "\n",
    "# Compute the covariance matrix from df\n",
    "covariance = Covariance()\n",
    "P = covariance.estimate(X=df, inplace=False)\n",
    "\n",
    "# Display the results\n",
    "print(\"Vector of expected returns (q):\")\n",
    "print(q)\n",
    "\n",
    "print(\"\\nCovariance matrix (P):\")\n",
    "print(P)"
   ],
   "outputs": [
    {
     "name": "stdout",
     "output_type": "stream",
     "text": [
      "Vector of expected returns (q):\n",
      "Asset_1     -0.006531\n",
      "Asset_2      0.006479\n",
      "Asset_3     -0.001308\n",
      "Asset_4     -0.002903\n",
      "Asset_5      0.002474\n",
      "               ...   \n",
      "Asset_96     0.011823\n",
      "Asset_97     0.002004\n",
      "Asset_98    -0.001115\n",
      "Asset_99     0.005659\n",
      "Asset_100    0.000161\n",
      "Length: 100, dtype: float64\n",
      "\n",
      "Covariance matrix (P):\n",
      "            Asset_1   Asset_2   Asset_3   Asset_4   Asset_5   Asset_6  \\\n",
      "Asset_1    0.044457 -0.003291 -0.004783 -0.006266 -0.001603 -0.005764   \n",
      "Asset_2   -0.003291  0.021840 -0.003611  0.000100 -0.000438 -0.000931   \n",
      "Asset_3   -0.004783 -0.003611  0.020480  0.005609  0.002312 -0.004775   \n",
      "Asset_4   -0.006266  0.000100  0.005609  0.025167  0.002043 -0.003369   \n",
      "Asset_5   -0.001603 -0.000438  0.002312  0.002043  0.005674  0.000648   \n",
      "...             ...       ...       ...       ...       ...       ...   \n",
      "Asset_96  -0.000626 -0.004368  0.003284 -0.004692 -0.000252  0.007452   \n",
      "Asset_97  -0.000253  0.000653  0.000326  0.001409  0.000733 -0.000114   \n",
      "Asset_98   0.000225  0.001505  0.003746 -0.000776  0.000951 -0.000935   \n",
      "Asset_99   0.001672  0.007630 -0.006382  0.001425  0.000313  0.001552   \n",
      "Asset_100 -0.000150  0.000792 -0.007170  0.000657 -0.003287  0.001463   \n",
      "\n",
      "            Asset_7   Asset_8   Asset_9  Asset_10  ...  Asset_91  Asset_92  \\\n",
      "Asset_1   -0.003778 -0.008465 -0.000860  0.007061  ... -0.008001  0.007128   \n",
      "Asset_2   -0.003246 -0.001680 -0.003154 -0.000852  ... -0.003361  0.004177   \n",
      "Asset_3    0.003704 -0.005681  0.005114  0.003536  ... -0.003078  0.000766   \n",
      "Asset_4    0.003812 -0.002646  0.000622 -0.006211  ...  0.000774 -0.003944   \n",
      "Asset_5   -0.001323 -0.000954 -0.002474 -0.000274  ...  0.002488 -0.001068   \n",
      "...             ...       ...       ...       ...  ...       ...       ...   \n",
      "Asset_96   0.000780  0.003572 -0.000145  0.001481  ...  0.004108  0.000684   \n",
      "Asset_97   0.000072  0.000358 -0.000799 -0.002860  ...  0.002119 -0.003243   \n",
      "Asset_98  -0.000517 -0.006326 -0.001662 -0.002056  ... -0.003580  0.003635   \n",
      "Asset_99  -0.001045  0.004554 -0.000472 -0.002551  ... -0.004837 -0.001497   \n",
      "Asset_100  0.001296  0.001168 -0.004546 -0.006239  ...  0.004470  0.001086   \n",
      "\n",
      "           Asset_93  Asset_94  Asset_95  Asset_96  Asset_97  Asset_98  \\\n",
      "Asset_1   -0.002724  0.008053 -0.004471 -0.000626 -0.000253  0.000225   \n",
      "Asset_2    0.004728  0.001236  0.001762 -0.004368  0.000653  0.001505   \n",
      "Asset_3   -0.004698 -0.004305  0.003126  0.003284  0.000326  0.003746   \n",
      "Asset_4    0.003863  0.005773  0.006199 -0.004692  0.001409 -0.000776   \n",
      "Asset_5   -0.002366  0.002010  0.002557 -0.000252  0.000733  0.000951   \n",
      "...             ...       ...       ...       ...       ...       ...   \n",
      "Asset_96  -0.000926 -0.001301 -0.005934  0.025315  0.001162 -0.003638   \n",
      "Asset_97   0.001323  0.000551  0.003567  0.001162  0.006508 -0.000096   \n",
      "Asset_98  -0.004787  0.005084  0.001392 -0.003638 -0.000096  0.015078   \n",
      "Asset_99  -0.001573  0.012255  0.002997 -0.005659 -0.001205 -0.002262   \n",
      "Asset_100  0.007298  0.006230  0.001451 -0.001615  0.001438  0.000698   \n",
      "\n",
      "           Asset_99  Asset_100  \n",
      "Asset_1    0.001672  -0.000150  \n",
      "Asset_2    0.007630   0.000792  \n",
      "Asset_3   -0.006382  -0.007170  \n",
      "Asset_4    0.001425   0.000657  \n",
      "Asset_5    0.000313  -0.003287  \n",
      "...             ...        ...  \n",
      "Asset_96  -0.005659  -0.001615  \n",
      "Asset_97  -0.001205   0.001438  \n",
      "Asset_98  -0.002262   0.000698  \n",
      "Asset_99   0.046280  -0.006827  \n",
      "Asset_100 -0.006827   0.029718  \n",
      "\n",
      "[100 rows x 100 columns]\n"
     ]
    }
   ],
   "execution_count": 478
  },
  {
   "cell_type": "code",
   "metadata": {
    "ExecuteTime": {
     "end_time": "2025-03-17T22:08:16.620767Z",
     "start_time": "2025-03-17T22:08:16.618107Z"
    }
   },
   "source": [
    "df.min().min(), df.max().max()"
   ],
   "outputs": [
    {
     "data": {
      "text/plain": [
       "(np.float64(-0.8268381780074392), np.float64(0.8809593272850894))"
      ]
     },
     "execution_count": 479,
     "metadata": {},
     "output_type": "execute_result"
    }
   ],
   "execution_count": 479
  },
  {
   "cell_type": "markdown",
   "metadata": {},
   "source": [
    "### 1.b)\n",
    "(3 points)\n",
    "\n",
    "Instantiate a constraints object by injecting column names of the data created in 1.a) as ids and add:\n",
    "- a budget constaint (i.e., asset weights have to sum to one)\n",
    "- lower bounds of 0.0 for all assets\n",
    "- upper bounds of 0.2 for all assets\n",
    "- group contraints such that the sum of the weights of the first 30 assets is <= 0.3, the sum of assets 31 to 60 is <= 0.4 and the sum of assets 61 to 100 is <= 0.5"
   ]
  },
  {
   "cell_type": "code",
   "metadata": {
    "ExecuteTime": {
     "end_time": "2025-03-17T22:08:16.636876Z",
     "start_time": "2025-03-17T22:08:16.634522Z"
    }
   },
   "source": [
    "# Instantiate the Constraints class\n",
    "constraints = Constraints(ids=df.columns.tolist())\n",
    "\n",
    "# Add budget constraint\n",
    "constraints.add_budget(rhs=task_config.TOTAL_EXPOSURE, sense=\"=\")\n",
    "\n",
    "# Add box constraints (i.e., lower and upper bounds)\n",
    "constraints.add_box(lower=task_config.MIN_WEIGHT, upper=task_config.MAX_WEIGHT)\n",
    "\n",
    "# Add linear constraints\n",
    "groups_mask = pd.DataFrame(\n",
    "    np.zeros((len(task_config.GROUP_CONSTRAINTS), N)), columns=constraints.ids\n",
    ")\n",
    "\n",
    "maximum_weights = []\n",
    "for i, group_constraint in enumerate(task_config.GROUP_CONSTRAINTS):\n",
    "    groups_mask.iloc[i, group_constraint.indicies] = 1\n",
    "    maximum_weights.append(group_constraint.max_weight)\n",
    "\n",
    "maximum_weights = pd.Series(maximum_weights)\n",
    "constraints.add_linear(G=groups_mask, sense=\"<=\", rhs=maximum_weights)"
   ],
   "outputs": [],
   "execution_count": 480
  },
  {
   "cell_type": "markdown",
   "metadata": {},
   "source": [
    "### 1.c) \n",
    "(4 points)\n",
    "\n",
    "Solve a Mean-Variance optimization problem (using coefficients P and q in the objective function) which satisfies the above defined constraints.\n",
    "Repeat the task for all open-source solvers in qpsolvers and compare the results in terms of:\n",
    "\n",
    "- runtime\n",
    "- accuracy: value of the primal problem.\n",
    "- reliability: are all constarints fulfilled? Extract primal resisduals, dual residuals and duality gap.\n",
    "\n",
    "Generate a DataFrame with the solvers as column names and the following row index: 'solution_found': bool, 'objective': float, 'primal_residual': float, 'dual_residual': float, 'duality_gap': float, 'runtime': float.\n",
    "\n",
    "Put NA's for solvers that failed for some reason (e.g., unable to install the package or solvers throws an error during execution). \n",
    "\n",
    "\n"
   ]
  },
  {
   "cell_type": "code",
   "metadata": {
    "ExecuteTime": {
     "end_time": "2025-03-17T22:08:16.760186Z",
     "start_time": "2025-03-17T22:08:16.650106Z"
    }
   },
   "source": [
    "# Extract the constraints in the format required by the solver\n",
    "GhAb = constraints.to_GhAb()\n",
    "\n",
    "# Loop over solvers, instantiate the quadratic program, solve it and store the results\n",
    "results = pd.DataFrame(\n",
    "    columns=[\n",
    "        \"solution_found\",\n",
    "        \"objective\",\n",
    "        \"primal_residual\",\n",
    "        \"dual_residual\",\n",
    "        \"duality_gap\",\n",
    "        \"runtime\",\n",
    "    ],\n",
    "    index=list(USABLE_SOLVERS),\n",
    ")\n",
    "for solver_name in USABLE_SOLVERS:\n",
    "    solver_settings = {\"solver_name\": solver_name}\n",
    "    model = QuadraticProgram(\n",
    "        P=P.to_numpy(),\n",
    "        q=q.to_numpy() * -1,\n",
    "        G=GhAb[\"G\"],\n",
    "        h=GhAb[\"h\"],\n",
    "        A=GhAb[\"A\"],\n",
    "        b=GhAb[\"b\"],\n",
    "        lb=constraints.box[\"lower\"].to_numpy(),\n",
    "        ub=constraints.box[\"upper\"].to_numpy(),\n",
    "        solver_settings=solver_settings,\n",
    "    )\n",
    "    start_time = timeit.default_timer()\n",
    "    model.solve()\n",
    "    runtime = timeit.default_timer() - start_time\n",
    "\n",
    "    results.loc[solver_name, \"solution_found\"] = model.results[\"solution\"].found\n",
    "    results.loc[solver_name, \"objective\"] = model.results[\"solution\"].obj\n",
    "    results.loc[solver_name, \"primal_residual\"] = (\n",
    "        model.results[\"solution\"].primal_residual()\n",
    "        if model.results[\"solution\"].found\n",
    "        else [\"NA\"]\n",
    "    )\n",
    "    results.loc[solver_name, \"dual_residual\"] = (\n",
    "        model.results[\"solution\"].dual_residual()\n",
    "        if model.results[\"solution\"].found\n",
    "        else [\"NA\"]\n",
    "    )\n",
    "    results.loc[solver_name, \"duality_gap\"] = (\n",
    "        model.results[\"solution\"].duality_gap()\n",
    "        if model.results[\"solution\"].found\n",
    "        else [\"NA\"]\n",
    "    )\n",
    "    results.loc[solver_name, \"runtime\"] = runtime\n",
    "\n",
    "\n",
    "# Extract runtime, accuracy, reliability"
   ],
   "outputs": [],
   "execution_count": 481
  },
  {
   "cell_type": "code",
   "metadata": {
    "ExecuteTime": {
     "end_time": "2025-03-17T22:08:16.777312Z",
     "start_time": "2025-03-17T22:08:16.774400Z"
    }
   },
   "source": [
    "results"
   ],
   "outputs": [
    {
     "data": {
      "text/plain": [
       "         solution_found objective primal_residual dual_residual  \\\n",
       "qpalm              True  -0.00873             0.0           0.0   \n",
       "quadprog           True  -0.00873             0.0           0.0   \n",
       "highs              True  -0.00873             0.0           0.0   \n",
       "daqp               True  -0.00873             0.0           0.0   \n",
       "osqp               True  -0.00873             0.0           0.0   \n",
       "cvxopt             True  -0.00873             0.0           0.0   \n",
       "\n",
       "                    duality_gap   runtime  \n",
       "qpalm     4.639097221706401e-09  0.015581  \n",
       "quadprog  4.639097221706401e-09  0.018835  \n",
       "highs     4.639097221706401e-09  0.018419  \n",
       "daqp      4.639097221706401e-09   0.01788  \n",
       "osqp      4.639097221706401e-09  0.017668  \n",
       "cvxopt    4.639097221706401e-09  0.017959  "
      ],
      "text/html": [
       "<div>\n",
       "<style scoped>\n",
       "    .dataframe tbody tr th:only-of-type {\n",
       "        vertical-align: middle;\n",
       "    }\n",
       "\n",
       "    .dataframe tbody tr th {\n",
       "        vertical-align: top;\n",
       "    }\n",
       "\n",
       "    .dataframe thead th {\n",
       "        text-align: right;\n",
       "    }\n",
       "</style>\n",
       "<table border=\"1\" class=\"dataframe\">\n",
       "  <thead>\n",
       "    <tr style=\"text-align: right;\">\n",
       "      <th></th>\n",
       "      <th>solution_found</th>\n",
       "      <th>objective</th>\n",
       "      <th>primal_residual</th>\n",
       "      <th>dual_residual</th>\n",
       "      <th>duality_gap</th>\n",
       "      <th>runtime</th>\n",
       "    </tr>\n",
       "  </thead>\n",
       "  <tbody>\n",
       "    <tr>\n",
       "      <th>qpalm</th>\n",
       "      <td>True</td>\n",
       "      <td>-0.00873</td>\n",
       "      <td>0.0</td>\n",
       "      <td>0.0</td>\n",
       "      <td>4.639097221706401e-09</td>\n",
       "      <td>0.015581</td>\n",
       "    </tr>\n",
       "    <tr>\n",
       "      <th>quadprog</th>\n",
       "      <td>True</td>\n",
       "      <td>-0.00873</td>\n",
       "      <td>0.0</td>\n",
       "      <td>0.0</td>\n",
       "      <td>4.639097221706401e-09</td>\n",
       "      <td>0.018835</td>\n",
       "    </tr>\n",
       "    <tr>\n",
       "      <th>highs</th>\n",
       "      <td>True</td>\n",
       "      <td>-0.00873</td>\n",
       "      <td>0.0</td>\n",
       "      <td>0.0</td>\n",
       "      <td>4.639097221706401e-09</td>\n",
       "      <td>0.018419</td>\n",
       "    </tr>\n",
       "    <tr>\n",
       "      <th>daqp</th>\n",
       "      <td>True</td>\n",
       "      <td>-0.00873</td>\n",
       "      <td>0.0</td>\n",
       "      <td>0.0</td>\n",
       "      <td>4.639097221706401e-09</td>\n",
       "      <td>0.01788</td>\n",
       "    </tr>\n",
       "    <tr>\n",
       "      <th>osqp</th>\n",
       "      <td>True</td>\n",
       "      <td>-0.00873</td>\n",
       "      <td>0.0</td>\n",
       "      <td>0.0</td>\n",
       "      <td>4.639097221706401e-09</td>\n",
       "      <td>0.017668</td>\n",
       "    </tr>\n",
       "    <tr>\n",
       "      <th>cvxopt</th>\n",
       "      <td>True</td>\n",
       "      <td>-0.00873</td>\n",
       "      <td>0.0</td>\n",
       "      <td>0.0</td>\n",
       "      <td>4.639097221706401e-09</td>\n",
       "      <td>0.017959</td>\n",
       "    </tr>\n",
       "  </tbody>\n",
       "</table>\n",
       "</div>"
      ]
     },
     "execution_count": 482,
     "metadata": {},
     "output_type": "execute_result"
    }
   ],
   "execution_count": 482
  },
  {
   "cell_type": "markdown",
   "metadata": {},
   "source": [
    "Print and visualize the results"
   ]
  },
  {
   "cell_type": "code",
   "metadata": {
    "ExecuteTime": {
     "end_time": "2025-03-17T22:08:16.803585Z",
     "start_time": "2025-03-17T22:08:16.802081Z"
    }
   },
   "source": [
    "assert results[\"solution_found\"].all(), \"Not all solutions found!\""
   ],
   "outputs": [],
   "execution_count": 483
  },
  {
   "cell_type": "code",
   "metadata": {
    "ExecuteTime": {
     "end_time": "2025-03-17T22:08:16.863701Z",
     "start_time": "2025-03-17T22:08:16.820143Z"
    }
   },
   "source": [
    "sort_order = results[\"runtime\"].sort_values(ascending=True).index\n",
    "\n",
    "results.loc[sort_order, \"objective\"].plot(kind=\"bar\", title=\"Objective function\");"
   ],
   "outputs": [
    {
     "data": {
      "text/plain": [
       "<Figure size 640x480 with 1 Axes>"
      ],
      "image/png": "[encoded data removed]"
     },
     "metadata": {},
     "output_type": "display_data"
    }
   ],
   "execution_count": 484
  },
  {
   "cell_type": "code",
   "metadata": {
    "ExecuteTime": {
     "end_time": "2025-03-17T22:08:16.909765Z",
     "start_time": "2025-03-17T22:08:16.866432Z"
    }
   },
   "source": [
    "(\n",
    "    results.loc[sort_order, \"primal_residual\"]\n",
    "    - results.loc[sort_order, \"dual_residual\"]\n",
    ").plot(kind=\"bar\", title=\"Residuals Diff\");"
   ],
   "outputs": [
    {
     "data": {
      "text/plain": [
       "<Figure size 640x480 with 1 Axes>"
      ],
      "image/png": "[encoded data removed]"
     },
     "metadata": {},
     "output_type": "display_data"
    }
   ],
   "execution_count": 485
  },
  {
   "cell_type": "code",
   "metadata": {
    "ExecuteTime": {
     "end_time": "2025-03-17T22:08:16.970497Z",
     "start_time": "2025-03-17T22:08:16.924527Z"
    }
   },
   "source": "results.loc[sort_order, \"runtime\"].plot(kind=\"bar\", title=\"Runtime\");",
   "outputs": [
    {
     "data": {
      "text/plain": [
       "<Figure size 640x480 with 1 Axes>"
      ],
      "image/png": "[encoded data removed]"
     },
     "metadata": {},
     "output_type": "display_data"
    }
   ],
   "execution_count": 486
  },
  {
   "cell_type": "markdown",
   "metadata": {},
   "source": [
    "## 2. Analytical Solution to Minimum-Variance Problem\n",
    "\n",
    "(5 points)\n",
    "\n",
    "- Create a `MinVariance` class that follows the structure of the `MeanVariance` class.\n",
    "- Implement the `solve` method in `MinVariance` such that if `solver_name = 'analytical'`, the analytical solution is computed and stored within the object (if such a solution exists). If not, call the `solve` method from the parent class.\n",
    "- Create a `Constraints` object by injecting the same ids as in part 1.b) and add a budget constraint.\n",
    "- Instantiate a `MinVariance` object by setting `solver_name = 'analytical'` and passing instances of `Constraints` and `Covariance` as arguments.\n",
    "- Create an `OptimizationData` object that contains an element `return_series`, which consists of the synthetic data generated in part 1.a).\n",
    "- Solve the optimization problem using the created `MinVariance` object and compare the results to those obtained in part 1.c).\n"
   ]
  },
  {
   "cell_type": "code",
   "metadata": {
    "ExecuteTime": {
     "end_time": "2025-03-17T22:08:16.991185Z",
     "start_time": "2025-03-17T22:08:16.986200Z"
    }
   },
   "source": [
    "# Define class MinVariance\n",
    "class MinVariance(Optimization):\n",
    "    def __init__(\n",
    "        self,\n",
    "        constraints: Constraints,\n",
    "        covariance: Optional[Covariance] = None,\n",
    "        **kwargs,\n",
    "    ):\n",
    "        super().__init__(constraints=constraints, **kwargs)\n",
    "        self.covariance = Covariance() if covariance is None else covariance\n",
    "\n",
    "        self.asset_names = constraints.ids\n",
    "\n",
    "    def set_objective(self, optimization_data: OptimizationData) -> None:\n",
    "        \"\"\"From the data computes the covariance matrix.\"\"\"\n",
    "        X = optimization_data[\"return_series\"]\n",
    "        covmat = self.covariance.estimate(X=X, inplace=False)\n",
    "        self.objective = Objective(\n",
    "            P=covmat,\n",
    "        )\n",
    "        return None\n",
    "\n",
    "    def solve(self) -> None:\n",
    "        if self.params.get(\"solver_name\") == \"analytical\":\n",
    "            assert all(constr is None for constr in self.constraints.linear.values()), (\n",
    "                \"Linear constraints are not supported for analytical solver.\"\n",
    "            )\n",
    "\n",
    "            GhAb = self.constraints.to_GhAb()\n",
    "            obj_coeff = self.objective.coefficients\n",
    "\n",
    "            Sigma = obj_coeff[\"P\"]\n",
    "            A = GhAb[\"A\"]\n",
    "            b = GhAb[\"b\"]\n",
    "\n",
    "            if b.ndim == 0:\n",
    "                b = b.reshape(-1, 1)\n",
    "\n",
    "            inner_matrix_inv = np.linalg.inv(A @ np.linalg.inv(Sigma) @ A.T)\n",
    "            weights = np.linalg.inv(Sigma) @ A.T @ inner_matrix_inv @ b\n",
    "            weights = list(weights.flatten())\n",
    "\n",
    "            self.results.update(\n",
    "                {\"weights\": dict(zip(self.asset_names, weights)), \"status\": True}\n",
    "            )\n",
    "\n",
    "            return None\n",
    "        else:\n",
    "            return super().solve()\n",
    "\n",
    "\n",
    "# Create a constraints object with just a budget constraint# Instantiate the Constraints class\n",
    "constraints = Constraints(ids=df.columns.tolist())\n",
    "constraints.add_budget(rhs=task_config.TOTAL_EXPOSURE, sense=\"=\")\n",
    "\n",
    "# Instantiate the MinVariance class\n",
    "min_variance = MinVariance(\n",
    "    constraints=constraints, covariance=covariance, solver_name=\"analytical\"\n",
    ")\n",
    "\n",
    "# Prepare the optimization data and prepare the optimization problem\n",
    "optimization_data = OptimizationData(return_series=df)\n",
    "min_variance.set_objective(optimization_data)\n",
    "\n",
    "# Solve the optimization problem and print the weights\n",
    "min_variance.solve()\n",
    "optimal_weights = min_variance.results[\"weights\"]\n",
    "\n",
    "assert np.isclose(\n",
    "    sum(optimal_weights.values()), task_config.TOTAL_EXPOSURE, atol=1e-6\n",
    "), \"Total exposure is not correct!\""
   ],
   "outputs": [],
   "execution_count": 487
  }
 ],
 "metadata": {
  "kernelspec": {
   "display_name": ".venv",
   "language": "python",
   "name": "python3"
  },
  "language_info": {
   "codemirror_mode": {
    "name": "ipython",
    "version": 3
   },
   "file_extension": ".py",
   "mimetype": "text/x-python",
   "name": "python",
   "nbconvert_exporter": "python",
   "pygments_lexer": "ipython3",
   "version": "3.10.11"
  }
 },
 "nbformat": 4,
 "nbformat_minor": 2
}
