{
 "cells": [
  {
   "cell_type": "markdown",
   "metadata": {},
   "source": [
    "# Assignment 2\n",
    "\n",
    "Deadline: 26.03.2025, 12:00 CET\n",
    "\n",
    "*Buchkov Viacheslav, ID = 24-742-488, viacheslav.buchkov@uzh.ch*\\\n",
    "*Zhiyi Tang, 21-746-763, zhiyi.tang@uzh.ch*\\\n",
    "*Yaqi Wu, 24-746-000, yaqi.wu@uzh.ch*\\\n",
    "*Yangshun Zhou, 24-746-281, yangshun.zhou@uzh.ch*"
   ]
  },
  {
   "cell_type": "markdown",
   "metadata": {},
   "source": [
    "## 1. Linearization of Turnover\n",
    "\n",
    "**(15 points)**\n",
    "\n",
    "Turnover constraints are used to limit the amount of change in portfolio weights between periods, helping to manage transaction costs and maintain portfolio stability.\n",
    "\n",
    "Your task is to implement a method `linearize_turnover_constraint` for the class `QuadraticProgram`, which modifies the quadratic programming problem to incorporate a linearized turnover constraint. This will involve updating the objective function coefficients, equality and inequality constraints, as well as the lower and upper bounds of the problem. \n",
    "\n",
    "Additionally, complete the example provided below to demonstrate that your method functions correctly.\n",
    "\n",
    "In class, we discussed a solution that involved augmenting the dimensionality by a factor of three. Here, you are asked to implement an alternative method that involves a two-fold increase in dimensions. If you are unable to implement the two-fold method, you may proceed with the three-fold approach.\n",
    "\n",
    "### Function Parameters:\n",
    "- `x_init` (np.ndarray): The initial portfolio weights.\n",
    "- `to_budget` (float, optional): The maximum allowable turnover. Defaults to `float('inf')`.\n",
    "\n",
    "### Steps for Function Implementation:\n",
    "\n",
    "As discussed in the lecture, introduce auxiliary variables and augment the matrices/vectors used for optimization.\n",
    "\n",
    "- **Objective Function Coefficients**:  \n",
    "  Pad the existing objective function coefficients (`P` and `q`) to accommodate the new variables introduced by the turnover constraint.  \n",
    "  *Note*: \"Padding\" refers to adding extra elements (typically zeros) to an array or matrix to increase its size to a desired shape.\n",
    "\n",
    "- **Equality Constraints**:  \n",
    "  Pad the existing equality constraint matrix (`A`) to account for the new variables.\n",
    "\n",
    "- **Inequality Constraints**:  \n",
    "  Pad the existing inequality constraint matrix ('G') and vector ('h') and further add a new inequality constraint row to incorporate the turnover constraint.  \n",
    "\n",
    "- **Lower and Upper Bounds**:  \n",
    "  Pad the existing lower (`lb`) and upper (`ub`) bounds to accommodate the new variables.\n",
    "\n",
    "- **Update Problem Data**:  \n",
    "  Overwrite the original problem data in the `QuadraticProgram` class with the updated matrices and vectors to include the linearized turnover constraint."
   ]
  },
  {
   "cell_type": "code",
   "metadata": {
    "ExecuteTime": {
     "end_time": "2025-03-20T23:19:35.297106Z",
     "start_time": "2025-03-20T23:19:35.294571Z"
    }
   },
   "source": [
    "# Import standard libraries\n",
    "import types\n",
    "import os\n",
    "import sys\n",
    "\n",
    "# Import third-party libraries\n",
    "import numpy as np\n",
    "import pandas as pd\n",
    "\n",
    "# Import local modules\n",
    "project_root = os.path.dirname(\n",
    "    os.path.dirname(os.getcwd())\n",
    ")  # Change this path if needed\n",
    "src_path = os.path.join(project_root, \"qpmwp-course\\\\src\")\n",
    "sys.path.append(project_root)\n",
    "sys.path.append(src_path)\n",
    "from src.estimation.covariance import Covariance\n",
    "from src.estimation.expected_return import ExpectedReturn\n",
    "from src.optimization.constraints import Constraints\n",
    "from src.optimization.quadratic_program import QuadraticProgram\n",
    "from src.helper_functions import load_data_msci"
   ],
   "outputs": [],
   "execution_count": 13
  },
  {
   "metadata": {
    "ExecuteTime": {
     "end_time": "2025-03-20T23:19:35.320032Z",
     "start_time": "2025-03-20T23:19:35.315688Z"
    }
   },
   "cell_type": "code",
   "source": [
    "def linearize_turnover_constraint(\n",
    "    self, x_init: np.ndarray, to_budget: float = float(\"inf\")\n",
    ") -> None:\n",
    "    \"\"\"\n",
    "    Linearize the turnover constraint in the quadratic programming problem with 3-fold augmentation.\n",
    "\n",
    "    This method modifies the quadratic programming problem to include a linearized turnover constraint.\n",
    "\n",
    "    Parameters:\n",
    "    -----------\n",
    "    x_init : np.ndarray\n",
    "        The initial portfolio weights.\n",
    "    to_budget : float, optional\n",
    "        The maximum allowable turnover. Defaults to float('inf').\n",
    "\n",
    "    Notes:\n",
    "    ------\n",
    "    - The method updates the problem's objective function coefficients, inequality constraints,\n",
    "    equality constraints, and bounds to account for the turnover constraint.\n",
    "    - The original problem data is overridden with the updated matrices and vectors.\n",
    "\n",
    "    Examples:\n",
    "    ---------\n",
    "    >>> qp = QuadraticProgram(P, q, G, h, A, b, lb, ub, solver='cvxopt')\n",
    "    >>> qp.linearize_turnover_constraint(x_init=np.array([0.1, 0.2, 0.3]), to_budget=0.05)\n",
    "    \"\"\"\n",
    "\n",
    "    # Control for tau being unnecessarily large\n",
    "    # maximum turnover = rebalance full portfolio = sell all and buy maximum possible => ub - lb\n",
    "    lb_orig = self.problem_data.get(\"lb\")\n",
    "    ub_orig = self.problem_data.get(\"ub\")\n",
    "    to_budget = min(to_budget, np.max(ub_orig) - np.min(lb_orig))\n",
    "\n",
    "    # Dimensions\n",
    "    n = len(self.problem_data.get(\"q\"))\n",
    "\n",
    "    # 1. Update the coefficients of the objective function\n",
    "    P_orig = self.problem_data.get(\"P\")\n",
    "    q_orig = self.problem_data.get(\"q\")\n",
    "\n",
    "    # Augment by positive and negative parts => 2 * n auxiliary variables\n",
    "    # that do not contribute to the mean-variance optim.\n",
    "    P = np.pad(P_orig, ((0, 2 * n), (0, 2 * n)), constant_values=0)\n",
    "    q = np.pad(q_orig, (0, 2 * n), constant_values=0)\n",
    "\n",
    "    # 2. Update the equality constraints\n",
    "    A_orig = self.problem_data.get(\"A\")\n",
    "    b_orig = self.problem_data.get(\"b\")\n",
    "\n",
    "    # Need w = w^0 + w^+ - w^- => linear constraint is w - w^+ + w^- = w^0\n",
    "    # Ax = b => in b we add w^0\n",
    "    b = np.concatenate((np.array([b_orig]), x_init))\n",
    "\n",
    "    # In A in each auxiliary row we need to pick row i -> w_i - w_i^+ + w_i^-\n",
    "    # => use identity in auxiliary rows\n",
    "    A = np.pad(A_orig, ((0, n), (0, 2 * n)), constant_values=0)\n",
    "    A[1:, :n] = np.eye(n)\n",
    "    A[1:, n : 2 * n] = np.eye(n) * -1\n",
    "    A[1:, 2 * n :] = np.eye(n)\n",
    "\n",
    "    # 3. Update the inequality constraints\n",
    "    G_orig = self.problem_data.get(\"G\")\n",
    "    h_orig = self.problem_data.get(\"h\")\n",
    "\n",
    "    # Have of the form Gw <= h\n",
    "    # need to include the new constr of \\sum(w^+ + w^-) <= turnover = `to_budget`\n",
    "    # thus, need to add in G a new row with 0s for true weights and 1s for all w^+ and w^-\n",
    "    # this last row of G will correspond to last element of h, which should be `to_budget`\n",
    "    if G_orig is None:\n",
    "        # If do not have inequality constr => create from scratch\n",
    "        G = np.pad(np.ones(2 * n), (n, 0), constant_values=0)[np.newaxis, :]\n",
    "        h = np.array([to_budget])\n",
    "    else:\n",
    "        # Pad otherwise\n",
    "        G = np.pad(G_orig, ((0, 1), (0, 2 * n)), constant_values=0)\n",
    "        G[n:, n:] = np.ones(2 * n)\n",
    "\n",
    "        h = np.concatenate((h_orig, np.array([to_budget])))\n",
    "\n",
    "    # 4. Update lower and upper bounds\n",
    "    # As we take w = w^0 + w^+ - w^- => w^- is positive => all are positive\n",
    "    lb = np.pad(lb_orig, (0, 2 * n), constant_values=0)\n",
    "    lb[n : 2 * n] = 0\n",
    "    lb[2 * n :] = 0\n",
    "\n",
    "    # Already have w^0 in our portfolio\n",
    "    # Maximum for w^+ => maximum can buy (upper_bound - what already have)\n",
    "    # Maximum for w^- => maximum can buy (what already have + how much we can short)\n",
    "    ub = np.pad(ub_orig, (0, 2 * n), constant_values=0)\n",
    "    ub[n : 2 * n] = ub_orig - x_init\n",
    "    ub[2 * n :] = x_init - lb_orig\n",
    "\n",
    "    # Override the original matrices\n",
    "    self.update_problem_data(\n",
    "        {\"P\": P, \"q\": q, \"G\": G, \"h\": h, \"A\": A, \"b\": b, \"lb\": lb, \"ub\": ub}\n",
    "    )\n",
    "\n",
    "    return None"
   ],
   "outputs": [],
   "execution_count": 14
  },
  {
   "cell_type": "markdown",
   "metadata": {},
   "source": [
    "## Demo"
   ]
  },
  {
   "cell_type": "markdown",
   "metadata": {},
   "source": [
    "#### Create P and q"
   ]
  },
  {
   "cell_type": "code",
   "metadata": {
    "ExecuteTime": {
     "end_time": "2025-03-20T23:19:35.351776Z",
     "start_time": "2025-03-20T23:19:35.325725Z"
    }
   },
   "source": [
    "# Load the msci country index data\n",
    "N = 10\n",
    "data = load_data_msci(path=\"../data/\", n=N)\n",
    "X = data[\"return_series\"]\n",
    "\n",
    "# Compute the vector of expected returns (mean returns)\n",
    "q = ExpectedReturn(method=\"geometric\").estimate(X=X, inplace=False)\n",
    "\n",
    "# Compute the covariance matrix\n",
    "P = Covariance(method=\"pearson\").estimate(X=X, inplace=False)\n",
    "\n",
    "# q, P"
   ],
   "outputs": [],
   "execution_count": 15
  },
  {
   "cell_type": "markdown",
   "metadata": {},
   "source": [
    "### Create some constraints, instantiate an object of class QuadraticProgram, and add the method linearize_turnover_constraint to the instance."
   ]
  },
  {
   "cell_type": "code",
   "metadata": {
    "ExecuteTime": {
     "end_time": "2025-03-20T23:19:35.361269Z",
     "start_time": "2025-03-20T23:19:35.358818Z"
    }
   },
   "source": [
    "# Instantiate the constraints with only the budget and long-only constraints\n",
    "constraints = Constraints(ids=X.columns.tolist())\n",
    "constraints.add_budget(rhs=1, sense=\"=\")\n",
    "constraints.add_box(lower=0.0, upper=1.0)\n",
    "GhAb = constraints.to_GhAb()\n",
    "\n",
    "# Create a quadratic program and linearize the turnover constraint\n",
    "qp = QuadraticProgram(\n",
    "    P=P.to_numpy(),\n",
    "    q=q.to_numpy() * 0,\n",
    "    G=GhAb[\"G\"],\n",
    "    h=GhAb[\"h\"],\n",
    "    A=GhAb[\"A\"],\n",
    "    b=GhAb[\"b\"],\n",
    "    lb=constraints.box[\"lower\"].to_numpy(),\n",
    "    ub=constraints.box[\"upper\"].to_numpy(),\n",
    "    solver=\"cvxopt\",\n",
    ")\n",
    "\n",
    "# Add the linearized turnover constraint method to the instance of class QuadraticProgram\n",
    "qp.linearize_turnover_constraint = types.MethodType(linearize_turnover_constraint, qp)"
   ],
   "outputs": [],
   "execution_count": 16
  },
  {
   "cell_type": "markdown",
   "metadata": {},
   "source": [
    "### Add a turnover limit of 50%. Solve the problem and check whether the turnover constraint is respected."
   ]
  },
  {
   "cell_type": "code",
   "metadata": {
    "ExecuteTime": {
     "end_time": "2025-03-20T23:19:35.376775Z",
     "start_time": "2025-03-20T23:19:35.367980Z"
    }
   },
   "source": [
    "MAX_TURNOVER = 0.5\n",
    "\n",
    "# Prepare initial weights\n",
    "x_init = pd.Series([1 / X.shape[1]] * X.shape[1], index=X.columns)\n",
    "\n",
    "# Add the linearized turnover constraint\n",
    "qp.linearize_turnover_constraint(x_init=x_init, to_budget=MAX_TURNOVER)\n",
    "\n",
    "# Solve the problem\n",
    "qp.solve()\n",
    "\n",
    "# Check the turnover\n",
    "solution = qp.results.get(\"solution\")\n",
    "ids = constraints.ids\n",
    "weights = pd.Series(solution.x[: len(ids)], index=ids, name=\"optimal_weights\")\n",
    "volatility = np.sqrt(weights.to_numpy().T @ P.to_numpy() @ weights.to_numpy())\n",
    "\n",
    "turnover = np.abs(weights - x_init).sum()\n",
    "\n",
    "assert turnover <= MAX_TURNOVER, f\"Turnover constraint not respected: {turnover} > {MAX_TURNOVER}\"\n",
    "\n",
    "print(\"Turnover:\")\n",
    "print(turnover)\n",
    "\n",
    "print(\"Volatility:\")\n",
    "print(volatility)"
   ],
   "outputs": [
    {
     "name": "stdout",
     "output_type": "stream",
     "text": [
      "Turnover:\n",
      "0.49961453130807876\n",
      "Volatility:\n",
      "0.008833887919600991\n"
     ]
    }
   ],
   "execution_count": 17
  },
  {
   "metadata": {
    "ExecuteTime": {
     "end_time": "2025-03-20T23:19:35.387167Z",
     "start_time": "2025-03-20T23:19:35.383752Z"
    }
   },
   "cell_type": "code",
   "source": "pd.concat([x_init.rename(\"initial_weights\"), weights], axis=1)",
   "outputs": [
    {
     "data": {
      "text/plain": [
       "    initial_weights  optimal_weights\n",
       "AT              0.1         0.082904\n",
       "AU              0.1         0.341482\n",
       "BE              0.1         0.100003\n",
       "CA              0.1         0.108230\n",
       "CH              0.1         0.100051\n",
       "DE              0.1         0.086531\n",
       "DK              0.1         0.100042\n",
       "ES              0.1         0.061602\n",
       "FI              0.1         0.001878\n",
       "FR              0.1         0.017277"
      ],
      "text/html": [
       "<div>\n",
       "<style scoped>\n",
       "    .dataframe tbody tr th:only-of-type {\n",
       "        vertical-align: middle;\n",
       "    }\n",
       "\n",
       "    .dataframe tbody tr th {\n",
       "        vertical-align: top;\n",
       "    }\n",
       "\n",
       "    .dataframe thead th {\n",
       "        text-align: right;\n",
       "    }\n",
       "</style>\n",
       "<table border=\"1\" class=\"dataframe\">\n",
       "  <thead>\n",
       "    <tr style=\"text-align: right;\">\n",
       "      <th></th>\n",
       "      <th>initial_weights</th>\n",
       "      <th>optimal_weights</th>\n",
       "    </tr>\n",
       "  </thead>\n",
       "  <tbody>\n",
       "    <tr>\n",
       "      <th>AT</th>\n",
       "      <td>0.1</td>\n",
       "      <td>0.082904</td>\n",
       "    </tr>\n",
       "    <tr>\n",
       "      <th>AU</th>\n",
       "      <td>0.1</td>\n",
       "      <td>0.341482</td>\n",
       "    </tr>\n",
       "    <tr>\n",
       "      <th>BE</th>\n",
       "      <td>0.1</td>\n",
       "      <td>0.100003</td>\n",
       "    </tr>\n",
       "    <tr>\n",
       "      <th>CA</th>\n",
       "      <td>0.1</td>\n",
       "      <td>0.108230</td>\n",
       "    </tr>\n",
       "    <tr>\n",
       "      <th>CH</th>\n",
       "      <td>0.1</td>\n",
       "      <td>0.100051</td>\n",
       "    </tr>\n",
       "    <tr>\n",
       "      <th>DE</th>\n",
       "      <td>0.1</td>\n",
       "      <td>0.086531</td>\n",
       "    </tr>\n",
       "    <tr>\n",
       "      <th>DK</th>\n",
       "      <td>0.1</td>\n",
       "      <td>0.100042</td>\n",
       "    </tr>\n",
       "    <tr>\n",
       "      <th>ES</th>\n",
       "      <td>0.1</td>\n",
       "      <td>0.061602</td>\n",
       "    </tr>\n",
       "    <tr>\n",
       "      <th>FI</th>\n",
       "      <td>0.1</td>\n",
       "      <td>0.001878</td>\n",
       "    </tr>\n",
       "    <tr>\n",
       "      <th>FR</th>\n",
       "      <td>0.1</td>\n",
       "      <td>0.017277</td>\n",
       "    </tr>\n",
       "  </tbody>\n",
       "</table>\n",
       "</div>"
      ]
     },
     "execution_count": 18,
     "metadata": {},
     "output_type": "execute_result"
    }
   ],
   "execution_count": 18
  },
  {
   "metadata": {
    "ExecuteTime": {
     "end_time": "2025-03-20T23:19:35.407305Z",
     "start_time": "2025-03-20T23:19:35.405617Z"
    }
   },
   "cell_type": "code",
   "source": [
    "# Use the constant from cbachela/qpmwp-course run to check the turnover\n",
    "ASSIGNMENT_CONSTANT = 0.49954552248142037\n",
    "\n",
    "print(f\"Deviation vs Assignment Constant is satisfied: {np.isclose(turnover, ASSIGNMENT_CONSTANT, atol=1e-3)}\")"
   ],
   "outputs": [
    {
     "name": "stdout",
     "output_type": "stream",
     "text": [
      "Deviation vs Assignment Constant is satisfied: True\n"
     ]
    }
   ],
   "execution_count": 19
  }
 ],
 "metadata": {
  "kernelspec": {
   "display_name": ".venv",
   "language": "python",
   "name": "python3"
  },
  "language_info": {
   "codemirror_mode": {
    "name": "ipython",
    "version": 3
   },
   "file_extension": ".py",
   "mimetype": "text/x-python",
   "name": "python",
   "nbconvert_exporter": "python",
   "pygments_lexer": "ipython3",
   "version": "3.10.11"
  }
 },
 "nbformat": 4,
 "nbformat_minor": 2
}
